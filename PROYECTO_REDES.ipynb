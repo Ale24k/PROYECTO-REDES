{
  "nbformat": 4,
  "nbformat_minor": 0,
  "metadata": {
    "colab": {
      "provenance": []
    },
    "kernelspec": {
      "name": "python3",
      "display_name": "Python 3"
    },
    "language_info": {
      "name": "python"
    }
  },
  "cells": [
    {
      "cell_type": "markdown",
      "source": [
        "**INTRODUCCIÓN**"
      ],
      "metadata": {
        "id": "P4xyCjcWRkB6"
      }
    },
    {
      "cell_type": "markdown",
      "source": [
        "aki va la introducción"
      ],
      "metadata": {
        "id": "rpHw7byBRvJk"
      }
    },
    {
      "cell_type": "code",
      "source": [
        "#codigo#"
      ],
      "metadata": {
        "id": "fGD7l9rSRpV2"
      },
      "execution_count": null,
      "outputs": []
    },
    {
      "cell_type": "markdown",
      "source": [],
      "metadata": {
        "id": "EVm4UdGqRkvg"
      }
    },
    {
      "cell_type": "markdown",
      "source": [],
      "metadata": {
        "id": "y3j2RNr8Q914"
      }
    }
  ]
}

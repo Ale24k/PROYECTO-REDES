{
 "cells": [
  {
   "cell_type": "code",
   "execution_count": 1,
   "id": "fd356fbd",
   "metadata": {},
   "outputs": [
    {
     "name": "stdout",
     "output_type": "stream",
     "text": [
      "¡Hola mundo!\n"
     ]
    }
   ],
   "source": [
    "print(\"¡Hola mundo!\")"
   ]
  },
  {
   "cell_type": "code",
   "execution_count": 1,
   "id": "cfc5c64c",
   "metadata": {
    "tags": []
   },
   "outputs": [],
   "source": [
    "import matplotlib.pyplot as plt"
   ]
  },
  {
   "cell_type": "code",
   "execution_count": null,
   "id": "24609d2c-720c-40d2-a340-abdabe2fc74c",
   "metadata": {},
   "outputs": [],
   "source": []
  }
 ],
 "metadata": {
  "kernelspec": {
   "display_name": "conda_python3",
   "language": "python",
   "name": "conda_python3"
  },
  "language_info": {
   "codemirror_mode": {
    "name": "ipython",
    "version": 3
   },
   "file_extension": ".py",
   "mimetype": "text/x-python",
   "name": "python",
   "nbconvert_exporter": "python",
   "pygments_lexer": "ipython3",
   "version": "3.10.10"
  }
 },
 "nbformat": 4,
 "nbformat_minor": 5
}

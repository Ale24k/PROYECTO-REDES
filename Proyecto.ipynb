{
  "nbformat": 4,
  "nbformat_minor": 0,
  "metadata": {
    "colab": {
      "provenance": [],
      "authorship_tag": "ABX9TyPuSec+oic3lAhAeBy08qrf",
      "include_colab_link": true
    },
    "kernelspec": {
      "name": "python3",
      "display_name": "Python 3"
    },
    "language_info": {
      "name": "python"
    }
  },
  "cells": [
    {
      "cell_type": "markdown",
      "metadata": {
        "id": "view-in-github",
        "colab_type": "text"
      },
      "source": [
        "<a href=\"https://colab.research.google.com/github/Ale24k/PROYECTO-REDES/blob/main/Proyecto.ipynb\" target=\"_parent\"><img src=\"https://colab.research.google.com/assets/colab-badge.svg\" alt=\"Open In Colab\"/></a>"
      ]
    },
    {
      "cell_type": "markdown",
      "source": [
        "**INTRODUCCIÓN**"
      ],
      "metadata": {
        "id": "PFROgT6ifPzz"
      }
    },
    {
      "cell_type": "code",
      "source": [
        "#Code"
      ],
      "metadata": {
        "id": "N7df1Hd5fVdo"
      },
      "execution_count": null,
      "outputs": []
    }
  ]
}